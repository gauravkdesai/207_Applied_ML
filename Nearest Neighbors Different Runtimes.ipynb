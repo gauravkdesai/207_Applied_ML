{
 "cells": [
  {
   "cell_type": "code",
   "execution_count": 2,
   "metadata": {
    "collapsed": true
   },
   "outputs": [],
   "source": [
    "\"\"\"\n",
    "This notebook runs two different versions of finding all nearest\n",
    "neighbors in a randomly generated set of points.\n",
    "\n",
    "Change the dimensions of the points and size of data set to\n",
    "see how the runtime is impacted\n",
    "\"\"\"\n",
    "\n",
    "import random\n",
    "from sklearn.neighbors import NearestNeighbors\n",
    "import numpy as np\n",
    "\n",
    "\n",
    "def generate_points(n_points, dimensions):\n",
    "    \"\"\"Generates points\n",
    "    \n",
    "    Args:\n",
    "        n_points (int): number of points to generate\n",
    "        dimensions (int): number of dimensions each point lives in\n",
    "        \n",
    "    Returns:\n",
    "        list\n",
    "    \"\"\"\n",
    "    def gen_point(d):\n",
    "        return [random.random() for i in range(d)]\n",
    "    \n",
    "    return [gen_point(dimensions) for i in range(n_points)]\n",
    "\n",
    "def distance(p1, p2):\n",
    "    return sum((i - j)**2 for (i, j) in zip(p1, p2))**0.5"
   ]
  },
  {
   "cell_type": "code",
   "execution_count": 3,
   "metadata": {
    "collapsed": true
   },
   "outputs": [],
   "source": [
    "# Naive Implementation O(n^2)\n",
    "def naive_get_nearest_neighbor(all_points, start_point):\n",
    "    \"\"\"Find the nearest point the start_point inside of all_points\n",
    "    \n",
    "    Args:\n",
    "        all_points (list of points): all available points for comparison\n",
    "        start_point (vector): a single point to center the rest of data set around\n",
    "        \n",
    "    Return:\n",
    "        vector, of the closest point\n",
    "    \"\"\"\n",
    "    closest = all_points[0]\n",
    "    d_closest = distance(closest, start_point)\n",
    "    for point in all_points[1:]:\n",
    "        d_candidate = distance(point, start_point)\n",
    "        if d_candidate < d_closest:\n",
    "            closest = point\n",
    "            d_closest = d_candidate\n",
    "            \n",
    "    return closest\n",
    "\n",
    "\n",
    "def naive_get_all_nn(data):\n",
    "    return [naive_get_nearest_neighbor(data, point) for point in data]"
   ]
  },
  {
   "cell_type": "code",
   "execution_count": 4,
   "metadata": {
    "collapsed": true
   },
   "outputs": [],
   "source": [
    "# Hash points to buckets and then look for nearest neighbors\n",
    "\"\"\"\n",
    "Two known bugs, nearest neighbors are returned in a scrambled order - need an index to\n",
    "straighten out. The hashing is not loss-less, it has trouble with boundary conditions.\n",
    "\"\"\"\n",
    "from collections import defaultdict\n",
    "hash_vectors = generate_points(3, 10)\n",
    "\n",
    "def compare(v1, v2):\n",
    "    over_under = sum(1 if i > j else 0 for (i, j) in zip(v1, v2)) - 5\n",
    "    return 1 if over_under > 0 else -1\n",
    "\n",
    "def hash_point(point):\n",
    "    return (compare(point, h) for h in hash_vectors)\n",
    "\n",
    "def hashed_get_all_nn(data):\n",
    "    buckets = defaultdict(list)\n",
    "    for point in data:\n",
    "        buckets[hash_point(point)].append(point)\n",
    "        \n",
    "    # Note this is slightly buggy as returned in in correct order\n",
    "    return [naive_get_all_nn(points) for points in buckets.values()]"
   ]
  },
  {
   "cell_type": "code",
   "execution_count": 5,
   "metadata": {
    "collapsed": true
   },
   "outputs": [],
   "source": [
    "# Built in Nearest Neighbors\n",
    "def built_in_get_all_nn(data):\n",
    "    X = np.array(data)\n",
    "    nbrs = NearestNeighbors(n_neighbors=1, algorithm='ball_tree').fit(X)\n",
    "    return nbrs.kneighbors(X)[0]"
   ]
  },
  {
   "cell_type": "code",
   "execution_count": 14,
   "metadata": {},
   "outputs": [
    {
     "name": "stdout",
     "output_type": "stream",
     "text": [
      "\n",
      "Naive\n",
      "CPU times: user 925 µs, sys: 1.05 ms, total: 1.97 ms\n",
      "Wall time: 2.11 ms\n",
      "\n",
      "Hashed\n",
      "CPU times: user 6.03 ms, sys: 17.3 ms, total: 23.3 ms\n",
      "Wall time: 30.7 ms\n",
      "\n",
      "Built In\n",
      "CPU times: user 2.91 ms, sys: 5.98 ms, total: 8.89 ms\n",
      "Wall time: 10.2 ms\n"
     ]
    }
   ],
   "source": [
    "# Make sure they all run - basic baby problem\n",
    "data = generate_points(10**1, 10)\n",
    "\n",
    "print('\\nNaive')\n",
    "%time naive_nn = naive_get_all_nn(data)\n",
    "\n",
    "print('\\nHashed')\n",
    "%time hashed_nn = hashed_get_all_nn(data)\n",
    "\n",
    "print('\\nBuilt In')\n",
    "%time built_in_nn = built_in_get_all_nn(data)"
   ]
  },
  {
   "cell_type": "code",
   "execution_count": 15,
   "metadata": {},
   "outputs": [
    {
     "name": "stdout",
     "output_type": "stream",
     "text": [
      "Naive\n",
      "CPU times: user 58.2 ms, sys: 6.14 ms, total: 64.4 ms\n",
      "Wall time: 71 ms\n",
      "\n",
      "Hashed\n",
      "CPU times: user 1.08 ms, sys: 214 µs, total: 1.3 ms\n",
      "Wall time: 1.56 ms\n",
      "\n",
      "Built In\n",
      "CPU times: user 2.74 ms, sys: 1.56 ms, total: 4.3 ms\n",
      "Wall time: 5.05 ms\n"
     ]
    }
   ],
   "source": [
    "# Slightly Larger\n",
    "data = generate_points(10**2, 10)\n",
    "\n",
    "print('Naive')\n",
    "%time naive_nn = naive_get_all_nn(data)\n",
    "\n",
    "print('\\nHashed')\n",
    "%time hashed_nn = hashed_get_all_nn(data)\n",
    "\n",
    "print('\\nBuilt In')\n",
    "%time built_in_nn = built_in_get_all_nn(data)"
   ]
  },
  {
   "cell_type": "code",
   "execution_count": 16,
   "metadata": {},
   "outputs": [
    {
     "name": "stdout",
     "output_type": "stream",
     "text": [
      "Naive\n",
      "CPU times: user 4.1 s, sys: 73.5 ms, total: 4.17 s\n",
      "Wall time: 5.45 s\n"
     ]
    }
   ],
   "source": [
    "# Make sure they all work\n",
    "data = generate_points(10**3, 10)\n",
    "\n",
    "print('Naive')\n",
    "%time naive_nn = naive_get_all_nn(data)"
   ]
  },
  {
   "cell_type": "code",
   "execution_count": 17,
   "metadata": {},
   "outputs": [
    {
     "name": "stdout",
     "output_type": "stream",
     "text": [
      "Hashed\n",
      "CPU times: user 8.89 ms, sys: 2.7 ms, total: 11.6 ms\n",
      "Wall time: 12.8 ms\n"
     ]
    }
   ],
   "source": [
    "print('Hashed')\n",
    "%time hashed_nn = hashed_get_all_nn(data)"
   ]
  },
  {
   "cell_type": "code",
   "execution_count": 18,
   "metadata": {},
   "outputs": [
    {
     "name": "stdout",
     "output_type": "stream",
     "text": [
      "Built In\n",
      "CPU times: user 18.7 ms, sys: 3.43 ms, total: 22.1 ms\n",
      "Wall time: 20.7 ms\n"
     ]
    }
   ],
   "source": [
    "print('Built In')\n",
    "%time built_in_nn = built_in_get_all_nn(data)"
   ]
  },
  {
   "cell_type": "code",
   "execution_count": 23,
   "metadata": {
    "collapsed": true
   },
   "outputs": [],
   "source": [
    "# Let's try bigger data\n",
    "data = generate_points(10**4, 10)"
   ]
  },
  {
   "cell_type": "code",
   "execution_count": 24,
   "metadata": {},
   "outputs": [
    {
     "name": "stdout",
     "output_type": "stream",
     "text": [
      "Naive\n",
      "CPU times: user 7min 5s, sys: 7.77 s, total: 7min 13s\n",
      "Wall time: 7min 53s\n"
     ]
    }
   ],
   "source": [
    "print('Naive')\n",
    "%time naive_nn = naive_get_all_nn(data)"
   ]
  },
  {
   "cell_type": "code",
   "execution_count": 20,
   "metadata": {},
   "outputs": [
    {
     "name": "stdout",
     "output_type": "stream",
     "text": [
      "Hashed\n",
      "CPU times: user 9.27 ms, sys: 220 µs, total: 9.49 ms\n",
      "Wall time: 9.75 ms\n"
     ]
    }
   ],
   "source": [
    "print('Hashed')\n",
    "%time hashed_nn = hashed_get_all_nn(data)"
   ]
  },
  {
   "cell_type": "code",
   "execution_count": 21,
   "metadata": {},
   "outputs": [
    {
     "name": "stdout",
     "output_type": "stream",
     "text": [
      "Built In\n",
      "CPU times: user 26.8 ms, sys: 5.79 ms, total: 32.6 ms\n",
      "Wall time: 31.8 ms\n"
     ]
    }
   ],
   "source": [
    "print('Built In')\n",
    "%time built_in_nn = built_in_get_all_nn(data)"
   ]
  }
 ],
 "metadata": {
  "kernelspec": {
   "display_name": "Python 3",
   "language": "python",
   "name": "python3"
  },
  "language_info": {
   "codemirror_mode": {
    "name": "ipython",
    "version": 3
   },
   "file_extension": ".py",
   "mimetype": "text/x-python",
   "name": "python",
   "nbconvert_exporter": "python",
   "pygments_lexer": "ipython3",
   "version": "3.6.3"
  }
 },
 "nbformat": 4,
 "nbformat_minor": 2
}
