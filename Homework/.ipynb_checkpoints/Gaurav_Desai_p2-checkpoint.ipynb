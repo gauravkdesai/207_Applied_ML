{
 "cells": [
  {
   "cell_type": "markdown",
   "metadata": {},
   "source": [
    "# Project 2: Topic Classification"
   ]
  },
  {
   "cell_type": "markdown",
   "metadata": {},
   "source": [
    "In this project, you'll work with text data from newsgroup postings on a variety of topics. You'll train classifiers to distinguish between the topics based on the text of the posts. Whereas with digit classification, the input is relatively dense: a 28x28 matrix of pixels, many of which are non-zero, here we'll represent each document with a \"bag-of-words\" model. As you'll see, this makes the feature representation quite sparse -- only a few words of the total vocabulary are active in any given document. The bag-of-words assumption here is that the label depends only on the words; their order is not important.\n",
    "\n",
    "The SK-learn documentation on feature extraction will prove useful:\n",
    "http://scikit-learn.org/stable/modules/feature_extraction.html\n",
    "\n",
    "Each problem can be addressed succinctly with the included packages -- please don't add any more. Grading will be based on writing clean, commented code, along with a few short answers.\n",
    "\n",
    "As always, you're welcome to work on the project in groups and discuss ideas on the course wall, but please prepare your own write-up and write your own code."
   ]
  },
  {
   "cell_type": "code",
   "execution_count": 1,
   "metadata": {},
   "outputs": [
    {
     "name": "stderr",
     "output_type": "stream",
     "text": [
      "/Users/gauravdesai/anaconda3/lib/python3.6/site-packages/sklearn/cross_validation.py:41: DeprecationWarning: This module was deprecated in version 0.18 in favor of the model_selection module into which all the refactored classes and functions are moved. Also note that the interface of the new CV iterators are different from that of this module. This module will be removed in 0.20.\n",
      "  \"This module will be removed in 0.20.\", DeprecationWarning)\n",
      "/Users/gauravdesai/anaconda3/lib/python3.6/site-packages/sklearn/grid_search.py:42: DeprecationWarning: This module was deprecated in version 0.18 in favor of the model_selection module into which all the refactored classes and functions are moved. This module will be removed in 0.20.\n",
      "  DeprecationWarning)\n"
     ]
    }
   ],
   "source": [
    "# This tells matplotlib not to try opening a new window for each plot.\n",
    "%matplotlib inline\n",
    "\n",
    "# General libraries.\n",
    "import re\n",
    "import numpy as np\n",
    "import matplotlib.pyplot as plt\n",
    "\n",
    "# SK-learn libraries for learning.\n",
    "from sklearn.pipeline import Pipeline\n",
    "from sklearn.neighbors import KNeighborsClassifier\n",
    "from sklearn.linear_model import LogisticRegression\n",
    "from sklearn.naive_bayes import BernoulliNB\n",
    "from sklearn.naive_bayes import MultinomialNB\n",
    "from sklearn.grid_search import GridSearchCV\n",
    "\n",
    "# SK-learn libraries for evaluation.\n",
    "from sklearn.metrics import confusion_matrix\n",
    "from sklearn import metrics\n",
    "from sklearn.metrics import classification_report\n",
    "\n",
    "# SK-learn library for importing the newsgroup data.\n",
    "from sklearn.datasets import fetch_20newsgroups\n",
    "\n",
    "# SK-learn libraries for feature extraction from text.\n",
    "from sklearn.feature_extraction.text import *"
   ]
  },
  {
   "cell_type": "markdown",
   "metadata": {},
   "source": [
    "Load the data, stripping out metadata so that we learn classifiers that only use textual features. By default, newsgroups data is split into train and test sets. We further split the test so we have a dev set. Note that we specify 4 categories to use for this project. If you remove the categories argument from the fetch function, you'll get all 20 categories."
   ]
  },
  {
   "cell_type": "code",
   "execution_count": 2,
   "metadata": {},
   "outputs": [
    {
     "name": "stdout",
     "output_type": "stream",
     "text": [
      "training label shape: (2034,)\n",
      "test label shape: (677,)\n",
      "dev label shape: (676,)\n",
      "labels names: ['alt.atheism', 'comp.graphics', 'sci.space', 'talk.religion.misc']\n"
     ]
    }
   ],
   "source": [
    "categories = ['alt.atheism', 'talk.religion.misc', 'comp.graphics', 'sci.space']\n",
    "remove_metadata=('headers', 'footers', 'quotes')\n",
    "newsgroups_train = fetch_20newsgroups(subset='train',\n",
    "                                      remove=remove_metadata,\n",
    "                                      categories=categories)\n",
    "newsgroups_test = fetch_20newsgroups(subset='test',\n",
    "                                     remove=remove_metadata,\n",
    "                                     categories=categories)\n",
    "\n",
    "num_test = len(newsgroups_test.target)\n",
    "\n",
    "test_data, test_labels = newsgroups_test.data[num_test//2:], newsgroups_test.target[num_test//2:]\n",
    "dev_data, dev_labels = newsgroups_test.data[:num_test//2], newsgroups_test.target[:num_test//2]\n",
    "train_data, train_labels = newsgroups_train.data, newsgroups_train.target\n",
    "\n",
    "print ('training label shape:', train_labels.shape)\n",
    "print ('test label shape:', test_labels.shape)\n",
    "print ('dev label shape:', dev_labels.shape)\n",
    "print ('labels names:', newsgroups_train.target_names)"
   ]
  },
  {
   "cell_type": "markdown",
   "metadata": {},
   "source": [
    "(1) For each of the first 5 training examples, print the text of the message along with the label.\n",
    "\n",
    "[2 pts]"
   ]
  },
  {
   "cell_type": "code",
   "execution_count": 3,
   "metadata": {},
   "outputs": [
    {
     "name": "stdout",
     "output_type": "stream",
     "text": [
      "Here are the first 5 training examples\n",
      "--------------------------------------------------------------------------------\n",
      "\n",
      "1]\n",
      "Label  :::comp.graphics\n",
      "Message:::\n",
      "\n",
      "Hi,\n",
      "\n",
      "I've noticed that if you only save a model (with all your mapping planes\n",
      "positioned carefully) to a .3DS file that when you reload it after restarting\n",
      "3DS, they are given a default position and orientation.  But if you save\n",
      "to a .PRJ file their positions/orientation are preserved.  Does anyone\n",
      "know why this information is not stored in the .3DS file?  Nothing is\n",
      "explicitly said in the manual about saving texture rules in the .PRJ file. \n",
      "I'd like to be able to read the texture rule information, does anyone have \n",
      "the format for the .PRJ file?\n",
      "\n",
      "Is the .CEL file format available from somewhere?\n",
      "\n",
      "Rych\n",
      "\n",
      "\n",
      "--------------------------------------------------------------------------------\n",
      "2]\n",
      "Label  :::talk.religion.misc\n",
      "Message:::\n",
      "\n",
      "\n",
      "\n",
      "Seems to be, barring evidence to the contrary, that Koresh was simply\n",
      "another deranged fanatic who thought it neccessary to take a whole bunch of\n",
      "folks with him, children and all, to satisfy his delusional mania. Jim\n",
      "Jones, circa 1993.\n",
      "\n",
      "\n",
      "Nope - fruitcakes like Koresh have been demonstrating such evil corruption\n",
      "for centuries.\n",
      "\n",
      "\n",
      "--------------------------------------------------------------------------------\n",
      "3]\n",
      "Label  :::sci.space\n",
      "Message:::\n",
      "\n",
      "\n",
      " >In article <1993Apr19.020359.26996@sq.sq.com>, msb@sq.sq.com (Mark Brader) \n",
      "\n",
      "MB>                                                             So the\n",
      "MB> 1970 figure seems unlikely to actually be anything but a perijove.\n",
      "\n",
      "JG>Sorry, _perijoves_...I'm not used to talking this language.\n",
      "\n",
      "Couldn't we just say periapsis or apoapsis?\n",
      "\n",
      " \n",
      "\n",
      "\n",
      "--------------------------------------------------------------------------------\n",
      "4]\n",
      "Label  :::alt.atheism\n",
      "Message:::\n",
      "\n",
      "I have a request for those who would like to see Charley Wingate\n",
      "respond to the \"Charley Challenges\" (and judging from my e-mail, there\n",
      "appear to be quite a few of you.)  \n",
      "\n",
      "It is clear that Mr. Wingate intends to continue to post tangential or\n",
      "unrelated articles while ingoring the Challenges themselves.  Between\n",
      "the last two re-postings of the Challenges, I noted perhaps a dozen or\n",
      "more posts by Mr. Wingate, none of which answered a single Challenge.  \n",
      "\n",
      "It seems unmistakable to me that Mr. Wingate hopes that the questions\n",
      "will just go away, and he is doing his level best to change the\n",
      "subject.  Given that this seems a rather common net.theist tactic, I\n",
      "would like to suggest that we impress upon him our desire for answers,\n",
      "in the following manner:\n",
      "\n",
      "1. Ignore any future articles by Mr. Wingate that do not address the\n",
      "Challenges, until he answers them or explictly announces that he\n",
      "refuses to do so.\n",
      "\n",
      "--or--\n",
      "\n",
      "2. If you must respond to one of his articles, include within it\n",
      "something similar to the following:\n",
      "\n",
      "    \"Please answer the questions posed to you in the Charley Challenges.\"\n",
      "\n",
      "Really, I'm not looking to humiliate anyone here, I just want some\n",
      "honest answers.  You wouldn't think that honesty would be too much to\n",
      "ask from a devout Christian, would you?  \n",
      "\n",
      "Nevermind, that was a rhetorical question.\n",
      "\n",
      "\n",
      "--------------------------------------------------------------------------------\n",
      "5]\n",
      "Label  :::sci.space\n",
      "Message:::\n",
      "\n",
      "AW&ST  had a brief blurb on a Manned Lunar Exploration confernce\n",
      "May 7th  at Crystal City Virginia, under the auspices of AIAA.\n",
      "\n",
      "Does anyone know more about this?  How much, to attend????\n",
      "\n",
      "Anyone want to go?\n",
      "\n",
      "\n",
      "--------------------------------------------------------------------------------\n"
     ]
    }
   ],
   "source": [
    "def printMessages(data, labels, messages_to_print=5):\n",
    "    \"\"\"\n",
    "    Prints first n messages from data along with the label of message.\n",
    "    where n i.e. number of messages to print is specified by argument examples_to_print\n",
    "    \n",
    "    Args:\n",
    "        data (list): messages data list from which messages to be printed\n",
    "        labels (numpy.ndarray): labels corresponding to data list. \n",
    "        \n",
    "    Kwargs:\n",
    "        messages_to_print (int): number of messages to print from data\n",
    "        \n",
    "    Returns:\n",
    "        None, Does not return anything\n",
    "    \"\"\"\n",
    "    print(\"Here are the first {} training examples\".format(messages_to_print))\n",
    "    print('-'*80)\n",
    "    print()\n",
    "    for index in range(messages_to_print):\n",
    "        print('{}]\\nLabel  :::{}\\nMessage:::\\n\\n{}\\n\\n'.format(\n",
    "            index+1,\n",
    "            newsgroups_train.target_names[labels[index]],\n",
    "            data[index]))\n",
    "        print('-'*80)\n",
    "\n",
    "printMessages(train_data, train_labels, 5)"
   ]
  },
  {
   "cell_type": "markdown",
   "metadata": {},
   "source": [
    "(2) Use CountVectorizer to turn the raw training text into feature vectors. You should use the fit_transform function, which makes 2 passes through the data: first it computes the vocabulary (\"fit\"), second it converts the raw text into feature vectors using the vocabulary (\"transform\").\n",
    "\n",
    "The vectorizer has a lot of options. To get familiar with some of them, write code to answer these questions:\n",
    "\n",
    "a. The output of the transform (also of fit_transform) is a sparse matrix: http://docs.scipy.org/doc/scipy-0.14.0/reference/generated/scipy.sparse.csr_matrix.html. What is the size of the vocabulary? What is the average number of non-zero features per example? What fraction of the entries in the matrix are non-zero? Hint: use \"nnz\" and \"shape\" attributes.\n",
    "\n",
    "b. What are the 0th and last feature strings (in alphabetical order)? Hint: use the vectorizer's get_feature_names function.\n",
    "\n",
    "c. Specify your own vocabulary with 4 words: [\"atheism\", \"graphics\", \"space\", \"religion\"]. Confirm the training vectors are appropriately shaped. Now what's the average number of non-zero features per example?\n",
    "\n",
    "d. Instead of extracting unigram word features, use \"analyzer\" and \"ngram_range\" to extract bigram and trigram character features. What size vocabulary does this yield?\n",
    "\n",
    "e. Use the \"min_df\" argument to prune words that appear in fewer than 10 documents. What size vocabulary does this yield?\n",
    "\n",
    "f. Using the standard CountVectorizer, what fraction of the words in the dev data are missing from the vocabulary? Hint: build a vocabulary for both train and dev and look at the size of the difference.\n",
    "\n",
    "[6 pts]"
   ]
  },
  {
   "cell_type": "code",
   "execution_count": 4,
   "metadata": {},
   "outputs": [
    {
     "name": "stdout",
     "output_type": "stream",
     "text": [
      "a.\n",
      "Fitting and Transforming training data using CountVectorizer\n",
      "Size of vocabulary=26879\n",
      "Average number of non zero features per examples=96.70600\n",
      "% of non zero entries in Matrix=0.35978\n"
     ]
    }
   ],
   "source": [
    "print('a.')\n",
    "print('Fitting and Transforming training data using CountVectorizer')\n",
    "vec = CountVectorizer()\n",
    "X=vec.fit_transform(train_data)\n",
    "\n",
    "print('Size of vocabulary={}'.format(X.shape[1]))\n",
    "print('Average number of non zero features per examples={0:.5f}'\n",
    "      .format(X.nnz/(X.shape[0])))\n",
    "print('% of non zero entries in Matrix={0:.5f}'\n",
    "      .format(100*X.nnz/(X.shape[0]*X.shape[1])))"
   ]
  },
  {
   "cell_type": "code",
   "execution_count": 5,
   "metadata": {},
   "outputs": [
    {
     "name": "stdout",
     "output_type": "stream",
     "text": [
      "b.\n",
      "0th and last feature string after sorting is 00 and zyxel respectively\n"
     ]
    }
   ],
   "source": [
    "print('b.')\n",
    "featureNamesSorted=sorted(vec.get_feature_names())\n",
    "print('0th and last feature string after sorting is {} and {} respectively'\n",
    "      .format(featureNamesSorted[0],featureNamesSorted[-1]))"
   ]
  },
  {
   "cell_type": "code",
   "execution_count": 6,
   "metadata": {},
   "outputs": [
    {
     "name": "stdout",
     "output_type": "stream",
     "text": [
      "c.\n",
      "Training Matrix Size=2034 by 4\n",
      "Feature size matches with custom vocabulary size?:True\n",
      "Now average number of non zero features per examples=0.26844\n",
      "\n"
     ]
    }
   ],
   "source": [
    "print('c.')\n",
    "custom_vocab = [\"atheism\", \"graphics\", \"space\", \"religion\"]\n",
    "vec = CountVectorizer(vocabulary=custom_vocab)\n",
    "X=vec.fit_transform(train_data)\n",
    "\n",
    "print('Training Matrix Size={} by {}'.format(X.shape[0],X.shape[1]))\n",
    "print('Feature size matches with custom vocabulary size?:{}'\n",
    "      .format(X.shape[1]==len(custom_vocab)))\n",
    "print('Now average number of non zero features per examples={0:.5f}\\n'\n",
    "      .format(X.nnz/(X.shape[0])))"
   ]
  },
  {
   "cell_type": "code",
   "execution_count": 7,
   "metadata": {},
   "outputs": [
    {
     "name": "stdout",
     "output_type": "stream",
     "text": [
      "d.\n",
      "Size of vocabulary with bigrams and trigrams character features=28954\n"
     ]
    }
   ],
   "source": [
    "print('d.')\n",
    "vec = CountVectorizer(analyzer='char_wb', ngram_range=(2,3))\n",
    "X=vec.fit_transform(train_data)\n",
    "print('Size of vocabulary with bigrams and trigrams character features={}'\n",
    "      .format(X.shape[1]))"
   ]
  },
  {
   "cell_type": "code",
   "execution_count": 8,
   "metadata": {},
   "outputs": [
    {
     "name": "stdout",
     "output_type": "stream",
     "text": [
      "e.\n",
      "Size of vocabulary after pruning features present in less than 10 documents=3064\n"
     ]
    }
   ],
   "source": [
    "print('e.')\n",
    "min_df=10\n",
    "vec = CountVectorizer(min_df=min_df)\n",
    "X=vec.fit_transform(train_data)\n",
    "print('Size of vocabulary after pruning features present in less than {} documents={}'\n",
    "      .format(min_df,X.shape[1]))"
   ]
  },
  {
   "cell_type": "code",
   "execution_count": 9,
   "metadata": {},
   "outputs": [
    {
     "name": "stdout",
     "output_type": "stream",
     "text": [
      "f.\n",
      "16246 words are present in Dev data vocabulary vs 26879 present in Training data vocabulary\n",
      "24.79% of words present in Dev data are missing in Training data vocabulary\n"
     ]
    }
   ],
   "source": [
    "print('f.')\n",
    "vecTrain = CountVectorizer()\n",
    "XTrain=vecTrain.fit_transform(train_data)\n",
    "trainFeatureNames = vecTrain.get_feature_names()\n",
    "\n",
    "vecDev = CountVectorizer()\n",
    "XDev=vecDev.fit_transform(dev_data)\n",
    "devFeatureNames = vecDev.get_feature_names()\n",
    "\n",
    "diff = set(devFeatureNames) - set(trainFeatureNames)\n",
    "print('{} words are present in Dev data vocabulary vs {} present in Training data vocabulary'\n",
    "      .format(XDev.shape[1],XTrain.shape[1]))\n",
    "print('{0:.2f}% of words present in Dev data are missing in Training data vocabulary'\n",
    "      .format(100 * len(diff)/len(devFeatureNames)))"
   ]
  },
  {
   "cell_type": "markdown",
   "metadata": {},
   "source": [
    "(3) Use the default CountVectorizer options and report the f1 score (use metrics.f1_score) for a k nearest neighbors classifier; find the optimal value for k. Also fit a Multinomial Naive Bayes model and find the optimal value for alpha. Finally, fit a logistic regression model and find the optimal value for the regularization strength C using l2 regularization. A few questions:\n",
    "\n",
    "a. Why doesn't nearest neighbors work well for this problem?\n",
    "\n",
    "b. Any ideas why logistic regression doesn't work as well as Naive Bayes?\n",
    "\n",
    "c. Logistic regression estimates a weight vector for each class, which you can access with the coef\\_ attribute. Output the sum of the squared weight values for each class for each setting of the C parameter. Briefly explain the relationship between the sum and the value of C.\n",
    "\n",
    "[4 pts]"
   ]
  },
  {
   "cell_type": "code",
   "execution_count": 10,
   "metadata": {},
   "outputs": [],
   "source": [
    "# Vectorizing Training Data \n",
    "vecTrain = CountVectorizer()\n",
    "XTrain=vecTrain.fit_transform(train_data)"
   ]
  },
  {
   "cell_type": "code",
   "execution_count": 11,
   "metadata": {},
   "outputs": [],
   "source": [
    "# Create KNN Classifier\n",
    "def getKNNClassifier():\n",
    "    classifier =  {\n",
    "        'prameter_name' : 'n_neighbors',\n",
    "        'parameters' : {\n",
    "            'n_neighbors' : list(range(1,200,2))\n",
    "        },\n",
    "        'name' : 'KNN Classifier',\n",
    "        'clf' : KNeighborsClassifier(),\n",
    "        'prameter_name_to_print' : 'K'\n",
    "    }\n",
    "    \n",
    "    return classifier"
   ]
  },
  {
   "cell_type": "code",
   "execution_count": 12,
   "metadata": {},
   "outputs": [],
   "source": [
    "# Create Multinomial Naive Bayes Classifier\n",
    "def getMNBClassifier():\n",
    "    classifier =  {\n",
    "        'prameter_name' : 'alpha',\n",
    "        'parameters' : {\n",
    "            'alpha' : np.arange(0.0001,0.1,0.0005)\n",
    "        },\n",
    "        'name' : 'Multinomial Naive Bayes Classifier',\n",
    "        'clf' : MultinomialNB(),\n",
    "        'prameter_name_to_print' : 'Alpha'\n",
    "    }\n",
    "    \n",
    "    return classifier"
   ]
  },
  {
   "cell_type": "code",
   "execution_count": 13,
   "metadata": {},
   "outputs": [],
   "source": [
    "# Create Logistic Regression\n",
    "def getLogisticRegression():\n",
    "    classifier =  {\n",
    "        'prameter_name' : 'C',\n",
    "        'parameters' : {\n",
    "            'C' : np.arange(0.01,0.3,0.01)\n",
    "        },\n",
    "        'name' : 'Logistic Regression',\n",
    "        'clf' : LogisticRegression(penalty='l2'),\n",
    "        'prameter_name_to_print' : 'C'\n",
    "    }\n",
    "    \n",
    "    return classifier"
   ]
  },
  {
   "cell_type": "code",
   "execution_count": 14,
   "metadata": {},
   "outputs": [
    {
     "name": "stdout",
     "output_type": "stream",
     "text": [
      "Using KNN Classifier\n",
      "Best F1 Score= 0.42936\n",
      "Best K=95\n",
      "--------------------------------------------------------------------------------\n",
      "Using Multinomial Naive Bayes Classifier\n",
      "Best F1 Score= 0.83114\n",
      "Best Alpha=0.0036\n",
      "--------------------------------------------------------------------------------\n",
      "Using Logistic Regression\n",
      "Best F1 Score= 0.77259\n",
      "Best C=0.18000000000000002\n",
      "--------------------------------------------------------------------------------\n"
     ]
    }
   ],
   "source": [
    "classifiers = (getKNNClassifier(),getMNBClassifier(),getLogisticRegression())\n",
    "for classifier in classifiers:\n",
    "    print('Using {}'.format(classifier['name']))\n",
    "    grid_search = GridSearchCV(classifier['clf']\n",
    "                               ,param_grid=classifier['parameters']\n",
    "                               ,scoring='f1_weighted',n_jobs=-1)\n",
    "    grid_search.fit(XTrain, train_labels)\n",
    "    print(\"Best F1 Score= {0:.5f}\".format(grid_search.best_score_))\n",
    "    best_param = grid_search.best_estimator_.get_params()[classifier['prameter_name']]\n",
    "    print(\"Best {}={}\".format(classifier['prameter_name_to_print'],best_param))\n",
    "    print('-'*80)"
   ]
  },
  {
   "cell_type": "markdown",
   "metadata": {},
   "source": [
    "ANSWER:"
   ]
  },
  {
   "cell_type": "markdown",
   "metadata": {},
   "source": [
    "a. KNN doesn't work well for this problem because the distance between two topics can not be easily measured by words. We need to dig deep by looking at the formation of sentence and order of words.\n",
    "\n",
    "b. Naive Bayes works well because certain rare words which belong to particular topic have high conditional probability which gives better classification than Logistic Regression. In Logistic Regression the possibility of inter collinearity affects the performance of the classifier."
   ]
  },
  {
   "cell_type": "code",
   "execution_count": 15,
   "metadata": {},
   "outputs": [
    {
     "name": "stdout",
     "output_type": "stream",
     "text": [
      "         C ->       WT1        WT2        WT3        WT4\n",
      "      0.01 ->   2.54149    2.93971    2.86247    2.25003\n",
      "      0.02 ->   5.47052    5.87620    5.94096    4.66847\n",
      "      0.03 ->   8.39881    8.61878    8.92626    7.09774\n",
      "      0.04 ->  11.26946   11.20610   11.81037    9.49712\n",
      "      0.05 ->  14.07325   13.67053   14.60452   11.86068\n",
      "      0.06 ->  16.80381   16.02611   17.31432   14.17945\n",
      "      0.07 ->  19.47817   18.30351   19.94976   16.45369\n",
      "      0.08 ->  22.08561   20.48203   22.51604   18.68467\n",
      "      0.09 ->  24.63045   22.60374   25.01698   20.87706\n",
      "      0.10 ->  27.13098   24.65727   27.45870   23.02690\n",
      "      0.11 ->  29.57700   26.65722   29.84381   25.13702\n",
      "      0.12 ->  31.97282   28.60597   32.18358   27.21108\n",
      "      0.13 ->  34.33430   30.50497   34.46714   29.25153\n",
      "      0.14 ->  36.64932   32.37163   36.71116   31.25750\n",
      "      0.15 ->  38.90481   34.18567   38.90620   33.23378\n",
      "      0.16 ->  41.15730   35.96792   41.06750   35.17616\n",
      "      0.17 ->  43.35443   37.70927   43.18204   37.08905\n",
      "      0.18 ->  45.51192   39.41746   45.27254   38.97920\n",
      "      0.19 ->  47.63887   41.09218   47.31536   40.84457\n",
      "      0.20 ->  49.74763   42.74540   49.33062   42.66831\n",
      "      0.21 ->  51.79759   44.36756   51.32318   44.47450\n",
      "      0.22 ->  53.85369   45.94744   53.25851   46.26906\n",
      "      0.23 ->  55.87562   47.55437   55.14197   48.00937\n",
      "      0.24 ->  57.86343   49.06976   57.07528   49.75824\n",
      "      0.25 ->  59.82603   50.57842   58.94356   51.48429\n",
      "      0.26 ->  61.76469   52.08594   60.78317   53.15660\n",
      "      0.27 ->  63.67262   53.56590   62.59239   54.84660\n",
      "      0.28 ->  65.56670   55.01687   64.38760   56.50447\n",
      "      0.29 ->  67.44632   56.48865   66.15750   58.14230\n"
     ]
    }
   ],
   "source": [
    "# Vectorizing Training & Dev Data \n",
    "vecTrain = CountVectorizer()\n",
    "XTrain=vecTrain.fit_transform(train_data)\n",
    "XDev=vecTrain.transform(dev_data)\n",
    "\n",
    "def squared_sum(coefficients):\n",
    "    \"\"\"\n",
    "    Calculates Sum of squares of each of the coefficients from coefficients matrix\n",
    "    per label category\n",
    "    \n",
    "    Args:\n",
    "        coefficients (numpy.ndarray): 2D array of Logistic Regression coef_\n",
    "        \n",
    "    Returns:\n",
    "        int, Sum of squares of each of the coefficients from coefficients matrix\n",
    "        per label category\n",
    "    \"\"\"\n",
    "    wt = [sum([coeff**2  for coeff in coeffRow]) for coeffRow in coefficients]\n",
    "    wt = np.array(wt).flatten()\n",
    "    return wt\n",
    "\n",
    "# Run Logistic Regression for each value of C\n",
    "print('{0:>10s} ->{1:>10s} {2:>10s} {3:>10s} {4:>10s}'\n",
    "      .format('C','WT1','WT2','WT3','WT4'))\n",
    "for c in np.arange(0.01,0.3,0.01):\n",
    "    clf = LogisticRegression(penalty='l2', C=c)\n",
    "    clf.fit(XTrain, train_labels)\n",
    "    wt = squared_sum(clf.coef_)    \n",
    "    print('{0:10.2f} ->{1:10.5f} {2:10.5f} {3:10.5f} {4:10.5f}'\n",
    "          .format(c, wt[0], wt[1], wt[2], wt[3]))\n",
    "    "
   ]
  },
  {
   "cell_type": "markdown",
   "metadata": {},
   "source": [
    "c. As value of C increases, the sum of quared weights also increase. Thus some features grow in weights and chances of overfitting the training set increases."
   ]
  },
  {
   "cell_type": "markdown",
   "metadata": {},
   "source": [
    "(4) Train a logistic regression model. Find the 5 features with the largest weights for each label -- 20 features in total. Create a table with 20 rows and 4 columns that shows the weight for each of these features for each of the labels. Create the table again with bigram features. Any surprising features in this table?\n",
    "\n",
    "[5 pts]"
   ]
  },
  {
   "cell_type": "code",
   "execution_count": 16,
   "metadata": {},
   "outputs": [
    {
     "name": "stdout",
     "output_type": "stream",
     "text": [
      "                       alt.atheism      comp.graphics          sci.space talk.religion.misc \n",
      "islam                      0.51215           -0.09265           -0.20530           -0.20687 \n",
      "atheists                   0.58258           -0.08605           -0.19545           -0.39937 \n",
      "religion                   0.59611           -0.36790           -0.48292           -0.01588 \n",
      "bobby                      0.59713           -0.14620           -0.20877           -0.28278 \n",
      "atheism                    0.59634           -0.25799           -0.25564           -0.30563 \n",
      "computer                  -0.01131            0.66066           -0.41140           -0.28318 \n",
      "3d                        -0.22412            0.68457           -0.39775           -0.22884 \n",
      "graphics                  -0.48854            1.21562           -0.80047           -0.45511 \n",
      "image                     -0.32912            0.80291           -0.46813           -0.26974 \n",
      "file                      -0.20794            0.78181           -0.51182           -0.35890 \n",
      "spacecraft                -0.21557           -0.23059            0.50254           -0.18670 \n",
      "launch                    -0.26383           -0.29837            0.58162           -0.20741 \n",
      "space                     -0.79311           -0.84942            1.46722           -0.71647 \n",
      "nasa                      -0.33424           -0.31291            0.64455           -0.30558 \n",
      "orbit                     -0.26308           -0.41029            0.73587           -0.32909 \n",
      "order                     -0.45443           -0.04714           -0.09553            0.53404 \n",
      "fbi                       -0.16311           -0.14540           -0.27403            0.53650 \n",
      "blood                     -0.28230           -0.07634           -0.13573            0.57061 \n",
      "christian                 -0.33052           -0.23897           -0.21749            0.67224 \n",
      "christians                -0.42489           -0.20935           -0.26470            0.64056 \n"
     ]
    }
   ],
   "source": [
    "# Train Logistic Regression using Unigram words\n",
    "vecTrain = CountVectorizer()\n",
    "XTrain=vecTrain.fit_transform(train_data)\n",
    "trainFeatureNames = vecTrain.get_feature_names()\n",
    "\n",
    "clf = LogisticRegression(penalty='l2',C=.18)\n",
    "clf.fit(XTrain, train_labels)\n",
    "\n",
    "\n",
    "def get_largest_weighed_features_index(coefficients, number_of_features=5):\n",
    "    wt = np.asarray([np.argpartition(coeffRow,-number_of_features)[-number_of_features:] \n",
    "                     for coeffRow in coefficients]).flatten()\n",
    "    return wt\n",
    "    \n",
    "wt_index = get_largest_weighed_features_index(clf.coef_,5)\n",
    "\n",
    "def print_feature_weight_matrix(target_names, feature_names, coeff, weight_index ):\n",
    "    # print 20 by 4 table displaying 20 features and their weights for each of the categories\n",
    "    print('{:15s}'.format(' '*15), end=\" \")\n",
    "    for label_index in range(4):\n",
    "        print('{:>18s}'.format(target_names[label_index]), end=\" \")\n",
    "    print()\n",
    "    for w in weight_index:\n",
    "        print('{:15s}'.format(feature_names[w]), end=\" \")\n",
    "        for label_index in range(4):\n",
    "            print('{0:18.5f}'.format(coeff[label_index][w]), end=\" \")\n",
    "        print()\n",
    "        \n",
    "print_feature_weight_matrix(newsgroups_train.target_names\n",
    "                            , trainFeatureNames, clf.coef_, wt_index)"
   ]
  },
  {
   "cell_type": "code",
   "execution_count": 17,
   "metadata": {
    "scrolled": true
   },
   "outputs": [
    {
     "name": "stdout",
     "output_type": "stream",
     "text": [
      "                       alt.atheism      comp.graphics          sci.space talk.religion.misc \n",
      "are you                    0.33888           -0.17955           -0.08451           -0.19980 \n",
      "is not                     0.34483           -0.17276           -0.33705            0.03374 \n",
      "in this                    0.35248           -0.01310           -0.35946           -0.08240 \n",
      "claim that                 0.38441           -0.13180           -0.18205           -0.07920 \n",
      "cheers kent                0.40272           -0.47477           -0.45847            0.41052 \n",
      "comp graphics             -0.19484            0.51067           -0.25641           -0.17196 \n",
      "out there                 -0.20938            0.56597           -0.34481           -0.20268 \n",
      "is there                  -0.23046            0.53139           -0.33933           -0.16307 \n",
      "in advance                -0.34397            0.63343           -0.31870           -0.30410 \n",
      "looking for               -0.46735            0.82018           -0.36040           -0.40929 \n",
      "it was                    -0.13524           -0.23648            0.39892           -0.21521 \n",
      "and such                  -0.15166           -0.24994            0.44899           -0.16446 \n",
      "sci space                 -0.18326           -0.24696            0.45493           -0.15542 \n",
      "the moon                  -0.27394           -0.37379            0.65938           -0.17756 \n",
      "the space                 -0.20571           -0.37138            0.64576           -0.20665 \n",
      "the word                   0.04131           -0.17789           -0.19690            0.31216 \n",
      "but he                    -0.11416           -0.14328           -0.08802            0.32390 \n",
      "with you                  -0.15220            0.03304           -0.23982            0.33116 \n",
      "cheers kent                0.40272           -0.47477           -0.45847            0.41052 \n",
      "the fbi                   -0.09032           -0.14564           -0.20819            0.40292 \n"
     ]
    }
   ],
   "source": [
    "# Train Logistic Regression using Bigram words\n",
    "\n",
    "vecTrain = CountVectorizer(analyzer='word', ngram_range=(2,2))\n",
    "XTrain=vecTrain.fit_transform(train_data)\n",
    "trainFeatureNames = vecTrain.get_feature_names()\n",
    "\n",
    "clf = LogisticRegression(penalty='l2',C=.18)\n",
    "clf.fit(XTrain, train_labels)\n",
    "\n",
    "wt_index = get_largest_weighed_features_index(clf.coef_,5)\n",
    "print_feature_weight_matrix(newsgroups_train.target_names\n",
    "                            , trainFeatureNames, clf.coef_, wt_index)"
   ]
  },
  {
   "cell_type": "markdown",
   "metadata": {},
   "source": [
    "ANSWER:"
   ]
  },
  {
   "cell_type": "markdown",
   "metadata": {},
   "source": [
    "The bigrams are mostly generic e.g. 'are you' or 'looking for'. But looks like they are highly attached with specific category in training data. e.g. 'looking for' has weight of .8 in comp.graphics category but this is not logical.\n",
    "We need to remove such common pair of words before using biagrams."
   ]
  },
  {
   "cell_type": "markdown",
   "metadata": {},
   "source": [
    "(5) Try to improve the logistic regression classifier by passing a custom preprocessor to CountVectorizer. The preprocessing function runs on the raw text, before it is split into words by the tokenizer. Your preprocessor should try to normalize the input in various ways to improve generalization. For example, try lowercasing everything, replacing sequences of numbers with a single token, removing various other non-letter characters, and shortening long words. If you're not already familiar with regular expressions for manipulating strings, see https://docs.python.org/2/library/re.html, and re.sub() in particular. With your new preprocessor, how much did you reduce the size of the dictionary?\n",
    "\n",
    "For reference, I was able to improve dev F1 by 2 points.\n",
    "\n",
    "[4 pts]"
   ]
  },
  {
   "cell_type": "code",
   "execution_count": 18,
   "metadata": {},
   "outputs": [
    {
     "name": "stdout",
     "output_type": "stream",
     "text": [
      "For Simple CountVectorizer..\n",
      "F1 score = 0.70757\n",
      "Vocabulary legth=26879\n"
     ]
    }
   ],
   "source": [
    "# Lets first run CountVectorizer so that we can benchmark our custom preprocessor\n",
    "vecTrain = CountVectorizer()\n",
    "XTrain=vecTrain.fit_transform(train_data)\n",
    "trainFeatureNames = vecTrain.get_feature_names()\n",
    "XDev=vecTrain.transform(dev_data)\n",
    "\n",
    "clf = LogisticRegression(penalty='l2',C=.18)\n",
    "clf.fit(XTrain, train_labels)\n",
    "YDev=clf.predict(XDev)\n",
    "f1=metrics.f1_score(dev_labels, YDev, average='weighted')\n",
    "\n",
    "print('For Simple CountVectorizer..')\n",
    "print('F1 score = {:7.5}'.format(f1))\n",
    "print('Vocabulary legth={}'.format(len(trainFeatureNames)))"
   ]
  },
  {
   "cell_type": "code",
   "execution_count": 19,
   "metadata": {},
   "outputs": [
    {
     "name": "stdout",
     "output_type": "stream",
     "text": [
      "For Custom Preprocessed CountVectorizer..\n",
      "F1 score = 0.73773\n",
      "Vocabulary legth=6636\n"
     ]
    }
   ],
   "source": [
    "# Customer Preprocessor which uses english stop words, lowercase, max_df = 15%, min_df=.1%\n",
    "# And bunch of reg ex to shorten the words\n",
    "\n",
    "def CustomerPreprocessor(s):\n",
    "    s = re.sub('\\W+',' ', s)\n",
    "    s = s.lower()\n",
    "    s = re.sub('_+','',s)\n",
    "    s = ' '.join([word[:6] for word in s.split()]) # keep only first 6 chars of each word\n",
    "    s = re.sub('ability\\s',' ',s)\n",
    "    s = re.sub('ibility\\s',' ',s)\n",
    "    s = re.sub('ance\\s',' ',s)\n",
    "    s = re.sub('able\\s',' ',s)\n",
    "    s = re.sub('tion\\s',' ',s)\n",
    "    s = re.sub('zation\\s',' ',s)\n",
    "    s = re.sub('sion\\s',' ',s)\n",
    "    s = re.sub('zion\\s',' ',s)\n",
    "    s = re.sub('ion\\s',' ',s)\n",
    "    s = re.sub('ian\\s',' ',s)\n",
    "    s = re.sub('ive\\s',' ',s)\n",
    "    s = re.sub('ist\\s',' ',s)\n",
    "    s = re.sub('i\\s',' ',s)\n",
    "    #s = re.sub(r'(.)\\1{2,}','\\\\1',s) # remove 2 or more consecutive chars   \n",
    "    \n",
    "    return s\n",
    "\n",
    "vecTrain = CountVectorizer(preprocessor=CustomerPreprocessor\n",
    "                           , analyzer='word', max_df=0.15\n",
    "                           , min_df=0.001, stop_words='english')\n",
    "XTrain = vecTrain.fit_transform(train_data)\n",
    "trainFeatureNames = vecTrain.get_feature_names()\n",
    "XDev=vecTrain.transform(dev_data)\n",
    "\n",
    "clf = LogisticRegression(penalty='l2',C=.18)\n",
    "clf.fit(XTrain, train_labels)\n",
    "YDev=clf.predict(XDev)\n",
    "f1=metrics.f1_score(dev_labels, YDev, average='weighted')\n",
    "\n",
    "print('For Custom Preprocessed CountVectorizer..')\n",
    "print('F1 score = {:7.5}'.format(f1))\n",
    "print('Vocabulary legth={}'.format(len(trainFeatureNames)))\n"
   ]
  },
  {
   "cell_type": "markdown",
   "metadata": {},
   "source": [
    "Size of vocabulary reduced from 26879 to 6636\n",
    "At the same time by using preprocessor, accuracy increased from 70.757 to 73.773"
   ]
  },
  {
   "cell_type": "markdown",
   "metadata": {},
   "source": [
    "(6) The idea of regularization is to avoid learning very large weights (which are likely to fit the training data, but not generalize well) by adding a penalty to the total size of the learned weights. That is, logistic regression seeks the set of weights that minimizes errors in the training data AND has a small size. The default regularization, L2, computes this size as the sum of the squared weights (see P3, above). L1 regularization computes this size as the sum of the absolute values of the weights. The result is that whereas L2 regularization makes all the weights relatively small, L1 regularization drives lots of the weights to 0, effectively removing unimportant features.\n",
    "\n",
    "Train a logistic regression model using a \"l1\" penalty. Output the number of learned weights that are not equal to zero. How does this compare to the number of non-zero weights you get with \"l2\"? Now, reduce the size of the vocabulary by keeping only those features that have at least one non-zero weight and retrain a model using \"l2\".\n",
    "\n",
    "Make a plot showing accuracy of the re-trained model vs. the vocabulary size you get when pruning unused features by adjusting the C parameter.\n",
    "\n",
    "Note: The gradient descent code that trains the logistic regression model sometimes has trouble converging with extreme settings of the C parameter. Relax the convergence criteria by setting tol=.01 (the default is .0001).\n",
    "\n",
    "[4 pts]"
   ]
  },
  {
   "cell_type": "code",
   "execution_count": 20,
   "metadata": {},
   "outputs": [],
   "source": [
    "np.random.seed(0)\n",
    "\n",
    "# Train data using standard CountVectorizer\n",
    "vecTrain = CountVectorizer(analyzer='word', max_df=0.15, stop_words='english')\n",
    "XTrain=vecTrain.fit_transform(train_data)\n",
    "trainFeatureNames = vecTrain.get_feature_names()\n",
    "XDev=vecTrain.transform(dev_data)"
   ]
  },
  {
   "cell_type": "code",
   "execution_count": 21,
   "metadata": {},
   "outputs": [],
   "source": [
    "#Logistic Regression Model using Penalty=l1\n",
    "clf = LogisticRegression(penalty='l1',C=.18)\n",
    "clf.fit(XTrain, train_labels)\n",
    "ceof_l1 = clf.coef_"
   ]
  },
  {
   "cell_type": "code",
   "execution_count": 22,
   "metadata": {},
   "outputs": [],
   "source": [
    "#Logistic Regression Model using Penalty=l2\n",
    "\n",
    "clf = LogisticRegression(penalty='l2',C=.18)\n",
    "clf.fit(XTrain, train_labels)\n",
    "ceof_l2 = clf.coef_"
   ]
  },
  {
   "cell_type": "code",
   "execution_count": 23,
   "metadata": {},
   "outputs": [
    {
     "name": "stdout",
     "output_type": "stream",
     "text": [
      "Number of non zero weights using penalty l1=477\n",
      "Number of non zero weights using penalty l2=106272\n"
     ]
    }
   ],
   "source": [
    "print('Number of non zero weights using penalty l1={}'\n",
    "      .format(np.count_nonzero(ceof_l1)))\n",
    "print('Number of non zero weights using penalty l2={}'\n",
    "      .format(np.count_nonzero(ceof_l2)))"
   ]
  },
  {
   "cell_type": "markdown",
   "metadata": {},
   "source": [
    "Number of features having non zero weights is just 476 using l1 penalty compared to whopping 106272 having non zero weigts using l2 penalty"
   ]
  },
  {
   "cell_type": "code",
   "execution_count": 24,
   "metadata": {},
   "outputs": [],
   "source": [
    "# Now lets find non zero weights for any of the 4 categories\n",
    "non_zero_coeff = np.count_nonzero(ceof_l1,0) \n",
    "l1_reduced_vocab = np.array(trainFeatureNames)[non_zero_coeff>0]\n",
    "#print(l1_reduced_vocab)\n",
    "\n",
    "# retrain l2 using reduced vocab from l1 model\n",
    "vecTrainL2 = CountVectorizer(analyzer='word', max_df=0.15, stop_words='english'\n",
    "                             , vocabulary=l1_reduced_vocab)\n",
    "XTrainL2=vecTrainL2.fit_transform(train_data)\n",
    "trainFeatureNamesL2 = vecTrainL2.get_feature_names()\n",
    "XDevL2=vecTrainL2.transform(dev_data)\n",
    "\n",
    "crange = np.arange(0.01,1,0.01)\n",
    "f1_scores = []\n",
    "\n",
    "for c in crange:\n",
    "    clf = LogisticRegression(penalty='l2', C=c)\n",
    "    clf.fit(XTrainL2, train_labels)\n",
    "    YDevL2=clf.predict(XDevL2)\n",
    "    f1=metrics.f1_score(dev_labels, YDevL2, average='weighted')\n",
    "    f1_scores.append(f1)"
   ]
  },
  {
   "cell_type": "code",
   "execution_count": 25,
   "metadata": {},
   "outputs": [
    {
     "data": {
      "image/png": "[encoded data removed]",
      "text/plain": [
       "<matplotlib.figure.Figure at 0x10dcc1630>"
      ]
     },
     "metadata": {},
     "output_type": "display_data"
    }
   ],
   "source": [
    "plt.plot(crange,f1_scores, 'bo')\n",
    "plt.title('C vs Accurancy (f1)')\n",
    "plt.show()\n",
    "    "
   ]
  },
  {
   "cell_type": "markdown",
   "metadata": {},
   "source": [
    "(7) Use the TfidfVectorizer -- how is this different from the CountVectorizer? Train a logistic regression model with C=100.\n",
    "\n",
    "Make predictions on the dev data and show the top 3 documents where the ratio R is largest, where R is:\n",
    "\n",
    "maximum predicted probability / predicted probability of the correct label\n",
    "\n",
    "What kinds of mistakes is the model making? Suggest a way to address one particular issue that you see.\n",
    "\n",
    "[4 pts]"
   ]
  },
  {
   "cell_type": "code",
   "execution_count": 26,
   "metadata": {},
   "outputs": [],
   "source": [
    "# Train data using TfidfVectorizer\n",
    "vecTrain = TfidfVectorizer(analyzer='word', stop_words='english' , max_df=0.18)\n",
    "XTrain=vecTrain.fit_transform(train_data)\n",
    "trainFeatureNames = vecTrain.get_feature_names()\n",
    "XDev=vecTrain.transform(dev_data)\n",
    "\n",
    "# Run Logistic regression on Tfidf transformed data\n",
    "clf = LogisticRegression(penalty='l2',C=100)\n",
    "clf.fit(XTrain, train_labels)\n",
    "YDev=clf.predict(XDev)\n",
    "YDevProba=clf.predict_proba(XDev)\n",
    "f1_TfidfVectorizer=metrics.f1_score(dev_labels, YDev, average='weighted')\n",
    "vocab_size_TfidfVectorizer = len(trainFeatureNames)"
   ]
  },
  {
   "cell_type": "code",
   "execution_count": 27,
   "metadata": {},
   "outputs": [
    {
     "name": "stdout",
     "output_type": "stream",
     "text": [
      "--------------------------------------------------------------------------------\n",
      "\n",
      "1. R=1763.3287 Predicted Label=comp.graphics Actual Label=talk.religion.misc\n",
      "--------------------------------------------------------------------------------\n",
      "I am pleased to announce that a *revised version* of _The Easy-to-Read Book\n",
      "of Mormon_ (former title: _Mormon's Book_) by Lynn Matthews Anderson is now\n",
      "available through anonymous ftp (see information below). In addition to the\n",
      "change in title, the revised ETR BOM has been shortened by several pages\n",
      "(eliminating many extraneous \"that's\" and \"of's\"), and many (minor) errors\n",
      "have been corrected. This release includes a simplified Joseph Smith Story,\n",
      "testimonies of the three and eight witnesses, and a \"Words-to-Know\"\n",
      "glossary.\n",
      "\n",
      "As with the previous announcement, readers are reminded that this is a\n",
      "not-for-profit endeavor. This is a copyrighted work, but people are welcome\n",
      "to make *verbatim* copies for personal use. People can recuperate the\n",
      "actual costs of printing (paper, copy center charges), but may not charge\n",
      "anything for their time in making copies, or in any way realize a profit\n",
      "from the use of this book. See the permissions notice in the book itself\n",
      "for the precise terms.\n",
      "\n",
      "Negotiations are currently underway with a Mormon publisher vis-a-vis the\n",
      "printing and distribution of bound books. (Sorry, I'm out of the wire-bound\n",
      "\"first editions.\") I will make another announcement about the availability\n",
      "of printed copies once everything has been worked out.\n",
      "\n",
      "FTP information: connect via anonymous ftp to carnot.itc.cmu.edu, then \"cd\n",
      "pub\" (you won't see anything at all until you do).\n",
      "\n",
      "\"The Easy-to-Read Book of Mormon\" is currently available in postscript and\n",
      "RTF (rich text format). (ASCII, LaTeX, and other versions can be made\n",
      "available; contact dba@andrew.cmu.edu for details.) You should be able to\n",
      "print the postscript file on any postscript printer (such as an Apple\n",
      "Laserwriter); let dba know if you have any difficulties. (The postscript in\n",
      "the last release had problems on some printers; this time it should work\n",
      "better.) RTF is a standard document interchange format that can be read in\n",
      "by a number of word processors, including Microsoft Word for both the\n",
      "Macintosh and Windows. If you don't have a postscript printer, you may be\n",
      "able to use the RTF file to print out a copy of the book.\n",
      "\n",
      "-r--r--r--  1 dba                   1984742 Apr 27 13:12 etrbom.ps\n",
      "-r--r--r--  1 dba                   1209071 Apr 27 13:13 etrbom.rtf\n",
      "\n",
      "For more information about how this project came about, please refer to my\n",
      "article in the current issue of _Sunstone_, entitled \"Delighting in\n",
      "Plainness: Issues Surrounding a Simple Modern English Book of Mormon.\"\n",
      "\n",
      "Send all inquiries and comments to:\n",
      "\n",
      "    Lynn Matthews Anderson\n",
      "    5806 Hampton Street\n",
      "    Pittsburgh, PA 15206\n",
      "--------------------------------------------------------------------------------\n",
      "\n",
      "2. R=310.7289 Predicted Label=sci.space Actual Label=alt.atheism\n",
      "--------------------------------------------------------------------------------\n",
      "\n",
      "The 24 children were, of course, killed by a lone gunman in a second story\n",
      "window, who fired eight bullets in the space of two seconds...\n",
      "\n",
      "--------------------------------------------------------------------------------\n",
      "\n",
      "3. R=207.6134 Predicted Label=comp.graphics Actual Label=talk.religion.misc\n",
      "--------------------------------------------------------------------------------\n",
      "Can anyone provide me a ftp site where I can obtain a online version\n",
      "of the Book of Mormon. Please email the internet address if possible.\n"
     ]
    }
   ],
   "source": [
    "def calculateR(probabilities, labels):\n",
    "    \"\"\"\n",
    "    Calculates R for given arrays of probabilities and labels\n",
    "    For each document R is calculated as \n",
    "    maximum predicted probability / predicted probability of the correct label\n",
    "    \n",
    "    Args:\n",
    "        probabilities (numpy.ndarray): M * N 2D array corresponding to \n",
    "            probability for each of M data against N labels\n",
    "        labels (numpy.ndarray): Actual labels         \n",
    "        \n",
    "    Returns:\n",
    "        1D numpy array, R value calculated For each data row \n",
    "    \"\"\"\n",
    "    R=[max(row)/row[cls] for (row,cls) in zip(probabilities,labels)]\n",
    "    R=np.array(R)\n",
    "    return R\n",
    "\n",
    "R=calculateR(YDevProba, dev_labels)\n",
    "#print(R)\n",
    "\n",
    "def printTopRDocuments(data,actual_labels,predicted_label\n",
    "                       , target_names, R, no_of_documents=3):\n",
    "    \"\"\"\n",
    "    Prints first N documents having largest R values.\n",
    "    N is determined by patameter no_of_documents\n",
    "    \n",
    "    Args:\n",
    "        data (numpy.ndarray): data array containing documents to be printed\n",
    "        actual_labels (numpy.ndarray): Actual labels of the data \n",
    "            (indices pointing to target_names)\n",
    "        predicted_label (numpy.ndarray): Labels predicted by classifier \n",
    "            (indices pointing to target_names)\n",
    "        target_names (numpy.ndarray): Master list of labels \n",
    "        R (numpy.ndarray): 1D array containing R value for each of the document \n",
    "        \n",
    "    Kwargs:\n",
    "        no_of_documents (int) : number of documents to be printed\n",
    "        \n",
    "    Returns:\n",
    "        None,\n",
    "    \"\"\"\n",
    "    topDocIndices = np.argpartition(R, -no_of_documents)[-no_of_documents:]\n",
    "    # reverse sort the indices using array value so the highest R comes first\n",
    "    topDocIndices = topDocIndices[np.flip(np.argsort(R[topDocIndices]),0)] \n",
    "\n",
    "    # Print Documents with largest R\n",
    "    for i in range(topDocIndices.shape[0]):\n",
    "        docIndex = topDocIndices[i]\n",
    "        print('-'*80)\n",
    "        print('\\n{:}. R={:.4f} Predicted Label={} Actual Label={}'.format(\n",
    "            i+1\n",
    "            ,R[docIndex]\n",
    "            ,target_names[predicted_label[docIndex]]\n",
    "            ,target_names[actual_labels[docIndex]]\n",
    "            ))\n",
    "        print('-'*80)\n",
    "        print(data[docIndex])\n",
    "    \n",
    "printTopRDocuments(dev_data, dev_labels, YDev, newsgroups_train.target_names, R, 3)"
   ]
  },
  {
   "cell_type": "markdown",
   "metadata": {},
   "source": [
    "ANSWER:"
   ]
  },
  {
   "cell_type": "markdown",
   "metadata": {},
   "source": [
    "While shortening the number of features, words very specific to one Label (e.g. ftp is very specific to comp.graphics Label) are given too much weightage in order to compensate the fewer features available to weigh upon. Thus the classifier easily makes mistake if even one such word like ftp in above case appears in any document and wrongly classifies it as comp.graphics.\n",
    "\n",
    "One way to overcome this issue is to use biagram or trigram of words in addition to single word. This way model would get slightly better understanding of the context of the document and will not be too biased about domain specific single words. The revised model should make fewer mistakes and theoritically may predict wrong label when at least more than one domain specific word appears in another category."
   ]
  },
  {
   "cell_type": "markdown",
   "metadata": {},
   "source": [
    "(8) EXTRA CREDIT\n",
    "\n",
    "Try implementing one of your ideas based on your error analysis. Use logistic regression as your underlying model.\n",
    "\n",
    "- [1 pt] for a reasonable attempt\n",
    "- [2 pts] for improved performance"
   ]
  },
  {
   "cell_type": "code",
   "execution_count": 28,
   "metadata": {},
   "outputs": [
    {
     "name": "stdout",
     "output_type": "stream",
     "text": [
      "F1 score changed from earlier 0.78568 to 0.78127\n",
      "Vocabulary size from earlier 26571 to 189468\n"
     ]
    }
   ],
   "source": [
    "vecTrain = TfidfVectorizer(analyzer='word', stop_words='english'\n",
    "                           , max_df=400,  ngram_range=(1,2), lowercase=True  )\n",
    "XTrain=vecTrain.fit_transform(train_data)\n",
    "trainFeatureNames = vecTrain.get_feature_names()\n",
    "XDev=vecTrain.transform(dev_data)\n",
    "\n",
    "clf = LogisticRegression(penalty='l2',C=500, solver='newton-cg')\n",
    "clf.fit(XTrain, train_labels)\n",
    "YDev=clf.predict(XDev)\n",
    "\n",
    "f1_modified=metrics.f1_score(dev_labels, YDev, average='weighted')\n",
    "vocab_size_modified = len(trainFeatureNames)\n",
    "\n",
    "print('F1 score changed from earlier {:.5f} to {:.5f}'\n",
    "      .format(f1_TfidfVectorizer,f1_modified))\n",
    "print('Vocabulary size from earlier {} to {}'\n",
    "      .format(vocab_size_TfidfVectorizer,vocab_size_modified))\n"
   ]
  }
 ],
 "metadata": {
  "kernelspec": {
   "display_name": "Python 3",
   "language": "python",
   "name": "python3"
  },
  "language_info": {
   "codemirror_mode": {
    "name": "ipython",
    "version": 3
   },
   "file_extension": ".py",
   "mimetype": "text/x-python",
   "name": "python",
   "nbconvert_exporter": "python",
   "pygments_lexer": "ipython3",
   "version": "3.6.4"
  }
 },
 "nbformat": 4,
 "nbformat_minor": 1
}
